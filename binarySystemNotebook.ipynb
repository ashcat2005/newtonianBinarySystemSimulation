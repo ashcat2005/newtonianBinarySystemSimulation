{
 "cells": [
  {
   "cell_type": "markdown",
   "id": "93e36aa6",
   "metadata": {},
   "source": [
    "# Lets first solve the 1-body problem without dissipation\n",
    "Let \n",
    "$$\\alpha = -GM$$"
   ]
  },
  {
   "cell_type": "code",
   "execution_count": 2,
   "id": "8c5dd494",
   "metadata": {},
   "outputs": [],
   "source": [
    "import numpy as np\n",
    "import random \n"
   ]
  },
  {
   "cell_type": "code",
   "execution_count": 37,
   "id": "b7aeb77a",
   "metadata": {},
   "outputs": [],
   "source": [
    "#Define alpha as a global variable and also dt\n",
    "G = 4* np.pi**2\n",
    "M = 1.\n",
    "alpha = G*M \n",
    "dt = 0.001"
   ]
  },
  {
   "cell_type": "code",
   "execution_count": null,
   "id": "88c940d2",
   "metadata": {},
   "outputs": [],
   "source": [
    "#Define the differential equation that describes the newtonian dynamics.\n",
    "def ODE(q0):\n",
    "    '''\n",
    "    ------------------------------------------\n",
    "    ODE(q0) \n",
    "    ------------------------------------------\n",
    "    ODEs system for the motion of a comet \n",
    "    around the Sun using cartesian coordinates\n",
    "    in the orbital plane.\n",
    "    ------------------------------------------\n",
    "    Arguments:\n",
    "    q0: NumPy array with the coordinates \n",
    "        defined as\n",
    "    q0[0] = x: coordinate x\n",
    "    q0[1] = y: coordinate y\n",
    "    ------------------------------------------\n",
    "    Returns:\n",
    "    a = NumPy array with the components of the \n",
    "        acceleration\n",
    "    '''\n",
    "    r2 = q0[0]**2 + q0[1]**2\n",
    "    a = - G*M*q0[0:2]/r2**(3/2)\n",
    "    return a\n"
   ]
  },
  {
   "cell_type": "code",
   "execution_count": 1,
   "id": "ef8f3d38",
   "metadata": {},
   "outputs": [],
   "source": [
    "#We will use a Velocity-Verlet integrator\n",
    "def VelocityVerletIntegrator(ODE,q):\n",
    "    '''\n",
    "    ---------------------------------\n",
    "    VelocityVerletIntegrator(ODE,q)\n",
    "    ---------------------------------\n",
    "    Uses a velocity Verlet integrator \n",
    "    to obtain the velocity \n",
    "    and position at the next step.\n",
    "    ---------------------------------\n",
    "    Arguments:\n",
    "    ODE: Force function\n",
    "    q: numpy array with the state of \n",
    "        the system in the order\n",
    "    q[0] = x: x coordinate\n",
    "    q[1] = y: y coordinate\n",
    "    q[2] = vx: velocity in x\n",
    "    q[3] = vy: velocity in y\n",
    "    ---------------------------------\n",
    "    Returns:\n",
    "    qNew = Numpy array with the updated state\n",
    "    '''\n",
    "    qNew = np.zeros((1,4)) #here will be the information of the new state\n",
    "    #Calculate the new acceleration vector at t\n",
    "    a0 = ODE(q) #Acceleration vector at t\n",
    "    #Obtain the position at t+dt\n",
    "    qNew[0:2] = q[0:2] + dt *q[2:4] + 0.5*a*dt**2\n",
    "    #Calculate the acceleration at t+dt\n",
    "    a1 = ODE(qNew)\n",
    "    #Calculate the velocity at t+dt\n",
    "    qNew[2:4] = q[2:4] + (a0+a1)/2 * dt\n",
    "    return qNew"
   ]
  },
  {
   "cell_type": "code",
   "execution_count": null,
   "id": "84702274",
   "metadata": {},
   "outputs": [],
   "source": [
    "#Define the model for the emision of energy and angular momentum.\n",
    "b = x*vx + y*vy\n",
    "R = np.array([[x,-vy],[y,vx]])"
   ]
  }
 ],
 "metadata": {
  "kernelspec": {
   "display_name": "Python 3",
   "language": "python",
   "name": "python3"
  },
  "language_info": {
   "codemirror_mode": {
    "name": "ipython",
    "version": 3
   },
   "file_extension": ".py",
   "mimetype": "text/x-python",
   "name": "python",
   "nbconvert_exporter": "python",
   "pygments_lexer": "ipython3",
   "version": "3.8.8"
  }
 },
 "nbformat": 4,
 "nbformat_minor": 5
}
