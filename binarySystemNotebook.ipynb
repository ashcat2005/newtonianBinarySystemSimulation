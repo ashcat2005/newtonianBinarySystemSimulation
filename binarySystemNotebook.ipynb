{
 "cells": [
  {
   "cell_type": "markdown",
   "id": "93e36aa6",
   "metadata": {},
   "source": [
    "# Lets first solve the 1-body problem without dissipation\n",
    "Let \n",
    "$$\\alpha = -GM$$"
   ]
  },
  {
   "cell_type": "code",
   "execution_count": 3,
   "id": "b7aeb77a",
   "metadata": {},
   "outputs": [],
   "source": [
    "#Define alpha as a global variable\n",
    "G = 1\n",
    "M = 1\n",
    "alpha = -G*M "
   ]
  },
  {
   "cell_type": "code",
   "execution_count": 8,
   "id": "d5cdb249",
   "metadata": {},
   "outputs": [],
   "source": [
    "#Define functions that calculate the energy and the angular momentum of the system\n",
    "def E(r,vr,vphi):\n",
    "    '''Takes the radius, radial velocity and angular velocity at a given time and returns the energy.\n",
    "        r :radius\n",
    "        vr: radial velocity\n",
    "        vphi: angular velocity.\n",
    "        As the problem has axial symmetry, there is no need for the angular position.'''\n",
    "    T = 0.5 *(vr**2 + (r*vphi)**2)\n",
    "    U = alpha/r\n",
    "    return T+U\n",
    "\n",
    "def L(r,vphi):\n",
    "    '''Takes the radius and angular velocity at a given time and returns the angular momentum\n",
    "        r : radius\n",
    "        vphi: angular velocity'''\n",
    "    return r**2 * vphi"
   ]
  },
  {
   "cell_type": "code",
   "execution_count": 18,
   "id": "8c5dd494",
   "metadata": {},
   "outputs": [],
   "source": [
    "import numpy as np\n",
    "import random "
   ]
  },
  {
   "cell_type": "code",
   "execution_count": 13,
   "id": "9df54e87",
   "metadata": {},
   "outputs": [],
   "source": [
    "def r(phi,p,e):\n",
    "    '''Takes the angular position, eccentricity and semi-latus rectum, returns the radial position\n",
    "    p : semi-latus rectum\n",
    "    e: eccenticity\n",
    "    phi:angular position\n",
    "    '''\n",
    "    r = p/(1-e*np.cos(phi))\n",
    "    return r"
   ]
  },
  {
   "cell_type": "markdown",
   "id": "e1568172",
   "metadata": {},
   "source": [
    "The orbit equation is \n",
    "\n",
    "$$r(\\phi) = \\frac{p}{1-ecos(\\phi)}$$\n",
    "\n",
    "$$e = \\sqrt{1+\\frac{2EL^2}{\\alpha^2}}$$\n",
    "\n",
    "$$p = \\frac{L^2}{\\alpha}$$"
   ]
  },
  {
   "cell_type": "code",
   "execution_count": 39,
   "id": "4ab57843",
   "metadata": {},
   "outputs": [],
   "source": [
    "#Define the initial conditions of the system\n",
    "r0 = random.uniform(0,100)\n",
    "phi0 = 0 #For convention\n",
    "vr0 = random.uniform(0,10)\n",
    "vphi0 = random.uniform(0,10)\n",
    "#Caracterization of the orbit\n",
    "E = E(r0,vr0,vphi0)\n",
    "L = L(r0,vphi0)\n",
    "p = L**2/alpha\n",
    "e = np.sqrt(1+ 2*E*L**2/alpha**2)\n",
    "#Simulation conditions\n",
    "t0 = 0\n",
    "tf = 100\n",
    "dt = 0.01 #step size\n",
    "n = int((tf-t0) / dt)\n",
    "#Where the data is stored\n",
    "t = np.linspace(t0, tf, n) # Time information\n",
    "Q = np.zeros([n,4]) # Information of the state of the system\n",
    "#Include the initial conditions in Q \n",
    "Q[0] = np.array([r0,phi0,vr0,vphi0])"
   ]
  },
  {
   "cell_type": "markdown",
   "id": "582d73d4",
   "metadata": {},
   "source": [
    "For the main loop we will use that the state of the system at $t+\\Delta t$ is:\n",
    "    $$r(\\phi+ \\Delta \\phi ), \\phi(t +  \\Delta t), \\dot r(\\phi+ \\Delta \\phi), \\dot \\phi(r(\\phi+\\Delta \\phi)).$$\n",
    "From here that we must obtain each variable in the following order:\n",
    "\n",
    "1. $$\\phi(t +  \\Delta t)=\\phi + \\dot \\phi \\Delta t$$\n",
    "\n",
    "\n",
    "\n",
    "2. $$r(\\phi+ \\Delta \\phi ) = \\frac{p}{1-ecos(\\phi(t+\\Delta t))} $$\n",
    "\n",
    "\n",
    "\n",
    "3. $$\\dot \\phi(r(\\phi+\\Delta \\phi)) = \\frac{L}{r^2(\\phi + \\Delta \\phi)}$$\n",
    "\n",
    "\n",
    "\n",
    "4. $$\\dot r(\\phi+ \\Delta \\phi) = \\frac{1}{p}r^2(\\phi + \\Delta \\phi)e\\sin(\\phi(t+\\Delta t))\\dot \\phi(r(\\phi + \\Delta \\phi))$$"
   ]
  },
  {
   "cell_type": "code",
   "execution_count": 46,
   "id": "3a5cfa78",
   "metadata": {},
   "outputs": [],
   "source": [
    "#Define how the above variables are calculated. \n",
    "def dphi(vphi,dt):\n",
    "    '''Takes the instantaneous rate of change and the step size, returns the total change'''\n",
    "    return vphi * dt\n",
    "\n",
    "def r(phi,p,e):\n",
    "    '''Takes the angular position, eccentricity and semi-latus rectum, returns the radial position\n",
    "    p : semi-latus rectum\n",
    "    e: eccenticity\n",
    "    phi:angular position\n",
    "    '''\n",
    "    r = p/(1-e*np.cos(phi))\n",
    "    return r\n",
    "\n",
    "def vphi(r,L):\n",
    "    '''takes  the angular momentum  and radius, uses the angular momentum definition\n",
    "    to obtain the angular velocity at a given r.\n",
    "    vphi : angular velocity\n",
    "    L : angular momentum\n",
    "    r: radius'''\n",
    "    return L/r**2\n",
    "\n",
    "def vr(r,phi,vphi,p,e):\n",
    "    '''Takes the radial and angular position, semi-latus rectum, eccentricity and the \n",
    "    angular velocity at a given time. Returns the radial velocity.\n",
    "    r: radial position\n",
    "    phi: angular position\n",
    "    vphi: angular velocity\n",
    "    p: semi-latus rectum\n",
    "    e: eccentricity\n",
    "    '''\n",
    "    return 1/p * r**2 * e * np.sin(phi) * vphi"
   ]
  },
  {
   "cell_type": "code",
   "execution_count": 47,
   "id": "9e440c73",
   "metadata": {},
   "outputs": [],
   "source": [
    "#Define the function that updates the state of the system\n",
    "def updateState(q,dt):\n",
    "    '''Takes as input an array and a time step. Returns the updated state of the system\n",
    "    as an array'''\n",
    "    qUpdated = np.zeros(4)\n",
    "    #Calculate the new phi\n",
    "    phiNew = dphi(q[3],dt) + q[1]\n",
    "    qUpdated[1] = phiNew\n",
    "    #Calculate the new r\n",
    "    rNew = r(q[1],p,e)\n",
    "    qUpdated[0] = rNew\n",
    "    #New phi dot\n",
    "    vphiNew = vphi(rNew,L)\n",
    "    qUpdated[3] = vphiNew\n",
    "    #New r dot\n",
    "    vrNew = vr(rNew,phiNew,vphiNew,p,e)\n",
    "    qUpdated[2] = vrNew\n",
    "    return qUpdated"
   ]
  },
  {
   "cell_type": "code",
   "execution_count": 48,
   "id": "0bfb4100",
   "metadata": {},
   "outputs": [],
   "source": [
    "#Define how to pass from polar to cartesian \n",
    "def polarToCartesian(r,theta):\n",
    "    '''Takes as input polar coordinates and returns cartesian coordinates'''\n",
    "    x = np.cos(theta) * r\n",
    "    y = np.cos(theta) * r\n",
    "    return x,y "
   ]
  },
  {
   "cell_type": "code",
   "execution_count": null,
   "id": "0167f160",
   "metadata": {},
   "outputs": [],
   "source": []
  }
 ],
 "metadata": {
  "kernelspec": {
   "display_name": "Python 3",
   "language": "python",
   "name": "python3"
  },
  "language_info": {
   "codemirror_mode": {
    "name": "ipython",
    "version": 3
   },
   "file_extension": ".py",
   "mimetype": "text/x-python",
   "name": "python",
   "nbconvert_exporter": "python",
   "pygments_lexer": "ipython3",
   "version": "3.8.8"
  }
 },
 "nbformat": 4,
 "nbformat_minor": 5
}
