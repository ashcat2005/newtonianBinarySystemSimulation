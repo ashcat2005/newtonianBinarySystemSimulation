{
 "cells": [
  {
   "cell_type": "code",
   "execution_count": 1,
   "id": "8c5dd494",
   "metadata": {},
   "outputs": [],
   "source": [
    "import numpy as np\n",
    "import random "
   ]
  },
  {
   "cell_type": "code",
   "execution_count": 2,
   "id": "076f21b0",
   "metadata": {},
   "outputs": [],
   "source": [
    "G = 4*np.pi**2\n",
    "c = 63197.8\n",
    "m1 =0.5\n",
    "m2 = 0.5\n",
    "M = m1+m2\n",
    "mu = m1*m2/M"
   ]
  },
  {
   "cell_type": "code",
   "execution_count": 3,
   "id": "88c940d2",
   "metadata": {},
   "outputs": [],
   "source": [
    "#Define the differential equation that describes the newtonian dynamics.\n",
    "def ODE(q0):\n",
    "    '''\n",
    "    ------------------------------------------\n",
    "    ODE(q0) \n",
    "    ------------------------------------------\n",
    "    ODEs system corresponding to the forces.\n",
    "    ------------------------------------------\n",
    "    Arguments:\n",
    "    q0: NumPy array with the coordinates \n",
    "        defined as.\n",
    "    q0[0] = x: coordinate x.\n",
    "    q0[1] = y: coordinate y.\n",
    "    ------------------------------------------\n",
    "    Returns:\n",
    "    a = NumPy array with the components of the \n",
    "        acceleration.\n",
    "    '''\n",
    "    r2 = q0[0]**2 + q0[1]**2\n",
    "    a = - G*M*q0[0:2]/r2**(3/2)\n",
    "    return a\n"
   ]
  },
  {
   "cell_type": "code",
   "execution_count": 4,
   "id": "1283a3df",
   "metadata": {},
   "outputs": [],
   "source": [
    "#We will use a Velocity-Verlet integrator\n",
    "def velocityVerletIntegrator(ODE,q,dt):\n",
    "    '''\n",
    "    ---------------------------------\n",
    "    VelocityVerletIntegrator(ODE,q)\n",
    "    ---------------------------------\n",
    "    Uses a velocity Verlet integrator \n",
    "    to obtain the velocity \n",
    "    and position at the next step.\n",
    "    ---------------------------------\n",
    "    Arguments:\n",
    "    ODE: Force function.\n",
    "    q: numpy array with the state of \n",
    "        the system in the order.\n",
    "    q[0] = x: x coordinate.\n",
    "    q[1] = y: y coordinate.\n",
    "    q[2] = vx: velocity in x.\n",
    "    q[3] = vy: velocity in y.\n",
    "    ---------------------------------\n",
    "    Returns:\n",
    "    qNew: Numpy array with the updated state.\n",
    "    '''\n",
    "    qNew = np.zeros((4,)) #here will be the information of the new state\n",
    "    #Calculate the new acceleration vector at t\n",
    "    a0 = ODE(q) #Acceleration vector at t\n",
    "    #Obtain the position at t+dt\n",
    "    qNew[0:2] = q[0:2] + dt *q[2:4] + 0.5*a0* dt**2\n",
    "    #Calculate the acceleration at t+dt\n",
    "    a1 = ODE(qNew)\n",
    "    #Calculate the velocity at t+dt\n",
    "    qNew[2:4] = q[2:4] + (a0+a1)/2 * dt\n",
    "    return qNew"
   ]
  },
  {
   "cell_type": "code",
   "execution_count": 5,
   "id": "da1cdace",
   "metadata": {},
   "outputs": [],
   "source": [
    "n = 500000\n",
    "# Initial Conditions\n",
    "stateArray = np.zeros([n,4])\n",
    "stateArray[0,0] = 1. # initial x\n",
    "stateArray[0,1] = 0. # initial y\n",
    "stateArray[0,2] = 0. # initial vx\n",
    "stateArray[0,3] = 3. # initial vy\n",
    "dt = 1E-5\n",
    "for i in range(1,n):\n",
    "    stateArray[i,:] = velocityVerletIntegrator(ODE, stateArray[i-1,:],dt)\n"
   ]
  },
  {
   "cell_type": "code",
   "execution_count": 6,
   "id": "707054c0",
   "metadata": {},
   "outputs": [
    {
     "data": {
      "image/png": "[encoded data removed]",
      "text/plain": [
       "<Figure size 640x480 with 1 Axes>"
      ]
     },
     "metadata": {},
     "output_type": "display_data"
    }
   ],
   "source": [
    "import matplotlib.pyplot as plt\n",
    "fig = plt.figure()\n",
    "ax = fig.add_subplot(1,1,1)\n",
    "ax.set_title('Trajectory')\n",
    "plt.plot(stateArray[:,0],stateArray[:,1])\n",
    "plt.show() #The integrator works"
   ]
  },
  {
   "cell_type": "code",
   "execution_count": 7,
   "id": "84702274",
   "metadata": {},
   "outputs": [],
   "source": [
    "#Define the model for the emision of energy and angular momentum.\n",
    "def emissionModel(q,dE,dL):\n",
    "    '''\n",
    "    -----------------------------------\n",
    "    EmissionModel(q,dE,dL)\n",
    "    -----------------------------------\n",
    "    Models the change in velocity after\n",
    "    an emission of both energy and \n",
    "    angular momentum. The details \n",
    "    of the model and the derivation of the \n",
    "    emission matrix can be found in the \n",
    "    document emissionModel.pdf, in the \n",
    "    theory directory of the repository.\n",
    "    -----------------------------------   \n",
    "    Arguments:\n",
    "    q: numpy array with the state of \n",
    "        the system in the order.\n",
    "    q[0] = x: x coordinate.\n",
    "    q[1] = y: y coordinate.\n",
    "    q[2] = vx: velocity in x.\n",
    "    q[3] = vy: velocity in y.\n",
    "    dE: change in energy i.e. energy emited.\n",
    "    dL: change in angula r momentum \n",
    "        i.e. angular momentum emited.\n",
    "    -----------------------------------\n",
    "    Returns:\n",
    "    qNew: numpy array with the updated state\n",
    "    '''\n",
    "    #Where the information of the updated state will be\n",
    "    qNew = np.zeros((4,))\n",
    "    qNew[0:2] = q[0:2] \n",
    "    #Update the velocities \n",
    "    R = q[0]*q[2]+q[1]*q[3]\n",
    "    qNew[2] = q[2] + (dE*q[0] - dL*q[3])/R\n",
    "    qNew[3] = q[3]+ (q[1]*dE + dL*q[2])/R\n",
    "    return qNew"
   ]
  },
  {
   "cell_type": "code",
   "execution_count": 8,
   "id": "f7b4dd70",
   "metadata": {},
   "outputs": [],
   "source": [
    "#Define the quadrupole tensor that describes the radiation\n",
    "def qij(x):\n",
    "  '''\n",
    "  --------------------------------------------------\n",
    "  qij(x)\n",
    "  --------------------------------------------------\n",
    "  Obtains the components of the quadrupole tensor.\n",
    "  --------------------------------------------------\n",
    "  Arguments:\n",
    "  x: numpy array with the position vector.\n",
    "  --------------------------------------------------\n",
    "  Returns:\n",
    "  Q: quadrupole tensor\n",
    "  '''\n",
    "  return mu*(np.outer(x,x) - np.identity(2)*np.dot(x,x)/3) #Notice that the dimension of the identity is 2, not 3.\n",
    "\n",
    "#Taken from: https://github.com/ashcat2005/binary_coalescence/blob/main/main/main.py"
   ]
  },
  {
   "cell_type": "code",
   "execution_count": 9,
   "id": "a3513c52",
   "metadata": {},
   "outputs": [
    {
     "name": "stdout",
     "output_type": "stream",
     "text": [
      "(3, 3, 3)\n",
      "[[[ 0.  0.  0.]\n",
      "  [ 0.  0.  1.]\n",
      "  [ 0. -1.  0.]]\n",
      "\n",
      " [[ 0.  0. -1.]\n",
      "  [ 0.  0.  0.]\n",
      "  [ 1.  0.  0.]]\n",
      "\n",
      " [[ 0.  1.  0.]\n",
      "  [-1.  0.  0.]\n",
      "  [ 0.  0.  0.]]]\n"
     ]
    }
   ],
   "source": [
    "#Define the Levi-Civita tensor\n",
    "ciclicPermutation = [[0,1,2],[1,2,0],[2,0,1]]\n",
    "leviCivita = np.zeros((3,3,3))\n",
    "for i in range(3):\n",
    "    for j in range(3):\n",
    "        for k in range(3):\n",
    "            if i!=j and j!=k and i!=k:\n",
    "                if [i,j,k] in ciclicPermutation:\n",
    "                    leviCivita[i,j,k]=1\n",
    "                else: leviCivita[i,j,k]=-1\n",
    "print(np.shape(leviCivita))\n",
    "print(leviCivita)"
   ]
  },
  {
   "cell_type": "code",
   "execution_count": 10,
   "id": "9da2c67a",
   "metadata": {},
   "outputs": [],
   "source": [
    "#Functions that calculate second and third derivative.\n",
    "def second_derivative(f,h):\n",
    "  '''\n",
    "  Second derivative of a function  \n",
    "  '''\n",
    "  return (11*f[0] - 56*f[1] + 114*f[2] - 104*f[3] + 35*f[4])/(12*h**2)\n",
    "\n",
    "\n",
    "def third_derivative(f,h):\n",
    "  '''\n",
    "  Third derivative of a function\n",
    "  '''\n",
    "  return (3*f[0] - 14*f[1] + 24*f[2] - 18*f[3] + 5*f[4])/(2*h**3)\n",
    "#Taken from: https://github.com/ashcat2005/binary_coalescence/blob/main/main/main.py"
   ]
  },
  {
   "cell_type": "code",
   "execution_count": 11,
   "id": "d810f8e2",
   "metadata": {},
   "outputs": [],
   "source": [
    "#Define the loss of energy and angular momentum due to the GW emission.\n",
    "def dEnergy(Qlist,dt):\n",
    "    '''\n",
    "     ------------------------------------\n",
    "    dEnergy(Q)\n",
    "    -------------------------------------\n",
    "    Models the emission of energy in GW\n",
    "    according to the theoretical results.\n",
    "    -------------------------------------\n",
    "    Arguments:\n",
    "    Q: quadrupole tensor as a numpy array.\n",
    "    -------------------------------------\n",
    "    Returns:\n",
    "    dE: change in energy\n",
    "    '''\n",
    "    a = third_derivative(Qlist,dt)\n",
    "    b = 0\n",
    "    for i in range(np.shape(a)[0]): #This can be more elegantly written as an iteration over the array elements\n",
    "        for j in range(np.shape(a)[1]):\n",
    "            b = b + a[i,j]**2\n",
    "    dE = b*G/(5*c**2) * dt\n",
    "    return dE\n",
    "            \n",
    "def dAngularMomentum(Qlist,dt):\n",
    "    '''\n",
    "     ------------------------------------\n",
    "    dAngularMomentum(Q)\n",
    "    -------------------------------------\n",
    "    Models the emission of angular momentum \n",
    "    due to GW according to the theoretical \n",
    "    results.\n",
    "    -------------------------------------\n",
    "    Arguments:\n",
    "    Q: quadrupole tensor as a numpy array.\n",
    "    -------------------------------------\n",
    "    Returns:\n",
    "    dL: change in angular momentum\n",
    "    '''\n",
    "    z = 2\n",
    "    a = second_derivative(Qlist,dt)\n",
    "    b = 0\n",
    "    for j in range(2):\n",
    "        for k in range(2):\n",
    "            for m in range(2): #This can be more elegantly written as an iteration over the array\n",
    "                b = b + leviCivita[z,j,k]*a[j,m]*a[k,m]\n",
    "    dL = 2*G/(5*c**5) * dt\n",
    "    return dL\n",
    "                \n",
    "            \n"
   ]
  },
  {
   "cell_type": "code",
   "execution_count": 12,
   "id": "93149614",
   "metadata": {},
   "outputs": [],
   "source": [
    "Q = np.zeros((n,2,2)) #The quadrupole tensor is stored here"
   ]
  },
  {
   "cell_type": "code",
   "execution_count": 16,
   "id": "e03f6780",
   "metadata": {},
   "outputs": [
    {
     "name": "stdout",
     "output_type": "stream",
     "text": [
      "[[ 1.00000000e+00  0.00000000e+00  0.00000000e+00  3.00000000e+00]\n",
      " [ 9.99999998e-01  3.00000000e-05 -3.94784177e-04  2.99999999e+00]\n",
      " [ 9.99999992e-01  5.99999999e-05 -7.89568355e-04  2.99999998e+00]\n",
      " ...\n",
      " [ 0.00000000e+00  0.00000000e+00  0.00000000e+00  0.00000000e+00]\n",
      " [ 0.00000000e+00  0.00000000e+00  0.00000000e+00  0.00000000e+00]\n",
      " [ 0.00000000e+00  0.00000000e+00  0.00000000e+00  0.00000000e+00]]\n"
     ]
    }
   ],
   "source": [
    "n = 500000 #number of steps\n",
    "dt = 1E-5\n",
    "# Initial Conditions\n",
    "stateArray = np.zeros([n,4]) #the information of the steps is stored here\n",
    "stateArray[0,0] = 1. # initial x\n",
    "stateArray[0,1] = 0. # initial y\n",
    "stateArray[0,2] = 0. # initial vx\n",
    "stateArray[0,3] = 3. # initial vy\n",
    "\n",
    "Q = np.zeros((n,2,2)) #The quadrupole tensor is stored here\n",
    "Q[0] = qij(stateArray[0,0:2]) # Quadrupole tensor initial conditions\n",
    "\n",
    "for i in range(4): #Do 4 Verlet steps, we need four points to calculate the second and third derivative of q.\n",
    "    stateArray[i+1]= velocityVerletIntegrator(ODE,stateArray[i],dt)\n",
    "    Q[i+1] = qij(stateArray[i+1,0:2])\n",
    "print(stateArray)"
   ]
  },
  {
   "cell_type": "code",
   "execution_count": 17,
   "id": "21dd1b9b",
   "metadata": {},
   "outputs": [
    {
     "name": "stderr",
     "output_type": "stream",
     "text": [
      "ERROR:root:No traceback has been produced, nothing to debug.\n",
      "<ipython-input-3-c3d0b2e9d6b5>:20: RuntimeWarning: overflow encountered in double_scalars\n",
      "  a = - G*M*q0[0:2]/r2**(3/2)\n",
      "<ipython-input-11-9669868fb307>:45: RuntimeWarning: overflow encountered in double_scalars\n",
      "  b = b + leviCivita[z,j,k]*a[j,m]*a[k,m]\n",
      "<ipython-input-11-9669868fb307>:45: RuntimeWarning: invalid value encountered in double_scalars\n",
      "  b = b + leviCivita[z,j,k]*a[j,m]*a[k,m]\n",
      "<ipython-input-3-c3d0b2e9d6b5>:20: RuntimeWarning: invalid value encountered in true_divide\n",
      "  a = - G*M*q0[0:2]/r2**(3/2)\n",
      "<ipython-input-8-172bd10f6de1>:15: RuntimeWarning: invalid value encountered in multiply\n",
      "  return mu*(np.outer(x,x) - np.identity(2)*np.dot(x,x)/3) #Notice that the dimension of the identity is 2, not 3.\n",
      "<ipython-input-8-172bd10f6de1>:15: RuntimeWarning: invalid value encountered in subtract\n",
      "  return mu*(np.outer(x,x) - np.identity(2)*np.dot(x,x)/3) #Notice that the dimension of the identity is 2, not 3.\n"
     ]
    }
   ],
   "source": [
    "\n",
    "#Main Loop\n",
    "    \n",
    "for i in range(4,n-1):\n",
    "    #1)Do a Velocity VerletStep\n",
    "    stateArray[i+1] = velocityVerletIntegrator(ODE,stateArray[i],dt)\n",
    "    #2)Now emmit the GW\n",
    "    #2.1)Calculate the quadrupole tensor\n",
    "    Q[i+1]= qij(stateArray[i+1,0:2])\n",
    "    #2.2)Calculate the emission of energy and angular momentum\n",
    "    dE = dEnergy(Q[i-4:i+1],dt)\n",
    "    dL = dAngularMomentum(Q[i-4:i+1],dt)\n",
    "    #2.3)Update the velocities\n",
    "    stateArray[i+1] = emissionModel(stateArray[i+1],dE,dL)"
   ]
  },
  {
   "cell_type": "code",
   "execution_count": 49,
   "id": "9012af50",
   "metadata": {},
   "outputs": [
    {
     "name": "stdout",
     "output_type": "stream",
     "text": [
      "-3.63844728507557e-07\n",
      "-5.457671110754545e-11\n",
      "-0.0015242847873184133\n"
     ]
    }
   ],
   "source": [
    "i = 4\n",
    "q = stateArray[i+1]\n",
    "dL = dAngularMomentum(Q[i-4:i+1],dt)\n",
    "dE = dEnergy(Q[i-4:i+1],dt)\n",
    "R = q[0]*q[2]+q[1]*q[3]\n",
    "dvx= (dE*q[0] - dL*q[3])/R\n",
    "dvy= (q[1]*dE + dL*q[2])/R\n",
    "print(dvx)\n",
    "print(dvy)\n",
    "print(R)"
   ]
  },
  {
   "cell_type": "code",
   "execution_count": 41,
   "id": "ed26d3b4",
   "metadata": {},
   "outputs": [
    {
     "name": "stderr",
     "output_type": "stream",
     "text": [
      "<ipython-input-41-d1fe952512a2>:2: MatplotlibDeprecationWarning: Adding an axes using the same arguments as a previous axes currently reuses the earlier instance.  In a future version, a new instance will always be created and returned.  Meanwhile, this warning can be suppressed, and the future behavior ensured, by passing a unique label to each axes instance.\n",
      "  ax = fig.add_subplot(1,1,1)\n"
     ]
    },
    {
     "data": {
      "text/plain": [
       "[<matplotlib.lines.Line2D at 0x7f0d4e51cfd0>]"
      ]
     },
     "execution_count": 41,
     "metadata": {},
     "output_type": "execute_result"
    },
    {
     "data": {
      "image/png": "[encoded data removed]",
      "text/plain": [
       "<Figure size 432x288 with 1 Axes>"
      ]
     },
     "metadata": {
      "needs_background": "light"
     },
     "output_type": "display_data"
    }
   ],
   "source": [
    "figure = plt.figure()\n",
    "ax = fig.add_subplot(1,1,1)\n",
    "plt.plot(stateArray[:,0],stateArray[:,1])"
   ]
  },
  {
   "cell_type": "code",
   "execution_count": null,
   "id": "f07ecfb2",
   "metadata": {},
   "outputs": [],
   "source": []
  }
 ],
 "metadata": {
  "kernelspec": {
   "display_name": "Python 3",
   "language": "python",
   "name": "python3"
  },
  "language_info": {
   "codemirror_mode": {
    "name": "ipython",
    "version": 3
   },
   "file_extension": ".py",
   "mimetype": "text/x-python",
   "name": "python",
   "nbconvert_exporter": "python",
   "pygments_lexer": "ipython3",
   "version": "3.8.11"
  }
 },
 "nbformat": 4,
 "nbformat_minor": 5
}
